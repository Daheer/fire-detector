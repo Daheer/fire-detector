{
 "cells": [
  {
   "cell_type": "code",
   "execution_count": null,
   "metadata": {},
   "outputs": [],
   "source": [
    "import serial\n",
    "import streamlit as st\n",
    "ser = serial.Serial('COM9', 9600, timeout=1)\n",
    "model = load('model.joblib')\n",
    "import warnings\n",
    "warnings.filterwarnings(\"ignore\")\n",
    "i = 0\n",
    "while True:\n",
    "    output = ser.readline()\n",
    "    decoded_out = output.decode()\n",
    "    stripped_out = decoded_out.rstrip()\n",
    "    splitted_out = stripped_out.split()\n",
    "    if len(splitted_out) == 10:\n",
    "        features = splitted_out[0:len(splitted_out):2]; features\n",
    "        values = splitted_out[1:len(splitted_out):2]; values\n",
    "        values = list(map(float, values))\n",
    "        print(values, i)\n",
    "        i+=1"
   ]
  },
  {
   "cell_type": "code",
   "execution_count": null,
   "metadata": {},
   "outputs": [],
   "source": [
    "import streamlit as st\n",
    "x = st.button('hi')\n",
    "print(st.session_state)"
   ]
  },
  {
   "cell_type": "code",
   "execution_count": null,
   "metadata": {},
   "outputs": [],
   "source": [
    "from utils import FireDetectorModel"
   ]
  },
  {
   "cell_type": "code",
   "execution_count": null,
   "metadata": {},
   "outputs": [],
   "source": [
    "fire_model = FireDetectorModel(features = ['LPG', 'CO', 'Smoke', 'Temperature', 'Humidity'],\n",
    "                               normal_values=[0.0, 0.0, 0.1, 34.0, 37.0],\n",
    "                               fire_values=[0.7, 4.5, 5.0, 41.0, 10.0],\n",
    "                               dataset_size=500, model = \"svc\",\n",
    "                               save_datasets=True)"
   ]
  },
  {
   "cell_type": "code",
   "execution_count": null,
   "metadata": {},
   "outputs": [],
   "source": [
    "from joblib import load\n",
    "import warnings\n",
    "warnings.filterwarnings(\"ignore\")\n",
    "model = load('model.joblib')\n",
    "\n",
    "model.predict([[0.9, 5, 4, 35, 12]]).item()"
   ]
  },
  {
   "cell_type": "code",
   "execution_count": null,
   "metadata": {},
   "outputs": [],
   "source": [
    "with open('log.txt', 'r') as f:\n",
    "    readings = f.readlines()[-20:]"
   ]
  },
  {
   "cell_type": "code",
   "execution_count": null,
   "metadata": {},
   "outputs": [],
   "source": [
    "readings[0].strip()"
   ]
  },
  {
   "cell_type": "code",
   "execution_count": null,
   "metadata": {},
   "outputs": [],
   "source": [
    "global x\n",
    "x = 23\n",
    "def func():\n",
    "    print(x)\n",
    "    x = 10\n",
    "\n",
    "    print(x)"
   ]
  },
  {
   "cell_type": "code",
   "execution_count": null,
   "metadata": {},
   "outputs": [],
   "source": [
    "import logging\n",
    "logging.basicConfig(filename = \"std.log\",\n",
    "                    format = '%(message)s',\n",
    "                    filemode = 'w')\n",
    "\n",
    "logger = logging.getLogger()\n",
    "\n",
    "#logger.setLevel(logging.DEBUG)\n",
    "\n",
    "logger.debug([8, 9])\n",
    "logger.info(\"second\")"
   ]
  },
  {
   "cell_type": "code",
   "execution_count": null,
   "metadata": {},
   "outputs": [],
   "source": [
    "import time\n",
    "curr_time = time.strftime(\"%H:%M:%S\", time.localtime())\n",
    "curr_time"
   ]
  },
  {
   "cell_type": "code",
   "execution_count": null,
   "metadata": {},
   "outputs": [],
   "source": [
    "a=\"one\"\n",
    "b=[\"two\", \"three\"]\n",
    "res = f\"{curr_time, a, *b}\"; res"
   ]
  },
  {
   "cell_type": "code",
   "execution_count": null,
   "metadata": {},
   "outputs": [],
   "source": [
    "import ast\n",
    "ast.literal_eval(res)"
   ]
  },
  {
   "cell_type": "code",
   "execution_count": null,
   "metadata": {},
   "outputs": [],
   "source": [
    "print(a, b)"
   ]
  },
  {
   "cell_type": "code",
   "execution_count": null,
   "metadata": {},
   "outputs": [],
   "source": [
    "mo"
   ]
  }
 ],
 "metadata": {
  "kernelspec": {
   "display_name": "Python 3",
   "language": "python",
   "name": "python3"
  },
  "language_info": {
   "codemirror_mode": {
    "name": "ipython",
    "version": 3
   },
   "file_extension": ".py",
   "mimetype": "text/x-python",
   "name": "python",
   "nbconvert_exporter": "python",
   "pygments_lexer": "ipython3",
   "version": "3.10.7"
  },
  "orig_nbformat": 4
 },
 "nbformat": 4,
 "nbformat_minor": 2
}
