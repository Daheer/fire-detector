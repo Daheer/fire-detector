{
 "cells": [
  {
   "cell_type": "code",
   "execution_count": null,
   "metadata": {},
   "outputs": [],
   "source": [
    "from utils import FireDetectorModel"
   ]
  },
  {
   "cell_type": "code",
   "execution_count": null,
   "metadata": {},
   "outputs": [],
   "source": [
    "fire_model = FireDetectorModel(features = ['LPG', 'CO', 'Smoke', 'Temperature', 'Humidity'],\n",
    "                               normal_values=[0.0, 0.0, 0.1, 34.0, 37.0],\n",
    "                               fire_values=[0.7, 4.5, 5.0, 41.0, 10.0],\n",
    "                               dataset_size=500, model = \"svc\",\n",
    "                               save_datasets=True)"
   ]
  }
 ],
 "metadata": {
  "kernelspec": {
   "display_name": "Python 3",
   "language": "python",
   "name": "python3"
  },
  "language_info": {
   "codemirror_mode": {
    "name": "ipython",
    "version": 3
   },
   "file_extension": ".py",
   "mimetype": "text/x-python",
   "name": "python",
   "nbconvert_exporter": "python",
   "pygments_lexer": "ipython3",
   "version": "3.10.7"
  },
  "orig_nbformat": 4
 },
 "nbformat": 4,
 "nbformat_minor": 2
}
